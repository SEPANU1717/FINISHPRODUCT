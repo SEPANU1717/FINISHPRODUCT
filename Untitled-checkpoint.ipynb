{
 "cells": [
  {
   "cell_type": "code",
   "execution_count": 1,
   "id": "6350e23a",
   "metadata": {},
   "outputs": [],
   "source": [
    "import numpy as np\n",
    "import pandas as pd\n",
    "from sklearn.feature_extraction.text import TfidfVectorizer\n",
    "from sklearn.metrics.pairwise import cosine_similarity\n",
    "from string import punctuation\n",
    "from nltk.corpus import stopwords\n",
    "import nltk\n",
    "from nltk.corpus import stopwords\n",
    "TOP_K = 5"
   ]
  },
  {
   "cell_type": "code",
   "execution_count": 2,
   "id": "4933af20",
   "metadata": {},
   "outputs": [
    {
     "name": "stdout",
     "output_type": "stream",
     "text": [
      "run\n"
     ]
    }
   ],
   "source": [
    "import nltk\n",
    "from nltk.stem import PorterStemmer\n",
    "\n",
    "stemmer = PorterStemmer()\n",
    "word = 'running'\n",
    "stemmed_word = stemmer.stem(word)\n",
    "print(stemmed_word)"
   ]
  },
  {
   "cell_type": "code",
   "execution_count": 3,
   "id": "ae5d2cbe",
   "metadata": {},
   "outputs": [
    {
     "name": "stderr",
     "output_type": "stream",
     "text": [
      "[nltk_data] Downloading package stopwords to\n",
      "[nltk_data]     C:\\Users\\ACER\\AppData\\Roaming\\nltk_data...\n",
      "[nltk_data]   Package stopwords is already up-to-date!\n"
     ]
    }
   ],
   "source": [
    "nltk.download('stopwords')\n",
    "stop = stopwords.words('english')"
   ]
  },
  {
   "cell_type": "code",
   "execution_count": 4,
   "id": "179e2a0c",
   "metadata": {},
   "outputs": [],
   "source": [
    "df = pd.read_csv(\"bastonedd.csv\")"
   ]
  },
  {
   "cell_type": "code",
   "execution_count": 5,
   "id": "b2b0dfa2",
   "metadata": {},
   "outputs": [
    {
     "data": {
      "text/html": [
       "<div>\n",
       "<style scoped>\n",
       "    .dataframe tbody tr th:only-of-type {\n",
       "        vertical-align: middle;\n",
       "    }\n",
       "\n",
       "    .dataframe tbody tr th {\n",
       "        vertical-align: top;\n",
       "    }\n",
       "\n",
       "    .dataframe thead th {\n",
       "        text-align: right;\n",
       "    }\n",
       "</style>\n",
       "<table border=\"1\" class=\"dataframe\">\n",
       "  <thead>\n",
       "    <tr style=\"text-align: right;\">\n",
       "      <th></th>\n",
       "      <th>title</th>\n",
       "      <th>description</th>\n",
       "      <th>url</th>\n",
       "    </tr>\n",
       "  </thead>\n",
       "  <tbody>\n",
       "    <tr>\n",
       "      <th>0</th>\n",
       "      <td>JavaScript Frameworks/Libraries (React.js, An...</td>\n",
       "      <td>A collection of JavaScript Frameworks/Librarie...</td>\n",
       "      <td>https://freecomputerbooks.com/webJavaScriptFra...</td>\n",
       "    </tr>\n",
       "    <tr>\n",
       "      <th>1</th>\n",
       "      <td>JavaScript for Impatient Programmers (Axel Ra...</td>\n",
       "      <td>This book makes JavaScript less challenging to...</td>\n",
       "      <td>https://freecomputerbooks.com/JavaScript-for-I...</td>\n",
       "    </tr>\n",
       "    <tr>\n",
       "      <th>2</th>\n",
       "      <td>Eloquent JavaScript, 3rd Edition: A Modern In...</td>\n",
       "      <td>Eloquent JavaScript dives deep into the JavaSc...</td>\n",
       "      <td>https://freecomputerbooks.com/Eloquent-JavaScr...</td>\n",
       "    </tr>\n",
       "    <tr>\n",
       "      <th>3</th>\n",
       "      <td>Deep JavaScript: Theory and Techniques (Axel ...</td>\n",
       "      <td>In depth knowledge of JavaScript makes it easi...</td>\n",
       "      <td>https://freecomputerbooks.com/Deep-JavaScript-...</td>\n",
       "    </tr>\n",
       "  </tbody>\n",
       "</table>\n",
       "</div>"
      ],
      "text/plain": [
       "                                               title  \\\n",
       "0   JavaScript Frameworks/Libraries (React.js, An...   \n",
       "1   JavaScript for Impatient Programmers (Axel Ra...   \n",
       "2   Eloquent JavaScript, 3rd Edition: A Modern In...   \n",
       "3   Deep JavaScript: Theory and Techniques (Axel ...   \n",
       "\n",
       "                                         description  \\\n",
       "0  A collection of JavaScript Frameworks/Librarie...   \n",
       "1  This book makes JavaScript less challenging to...   \n",
       "2  Eloquent JavaScript dives deep into the JavaSc...   \n",
       "3  In depth knowledge of JavaScript makes it easi...   \n",
       "\n",
       "                                                 url  \n",
       "0  https://freecomputerbooks.com/webJavaScriptFra...  \n",
       "1  https://freecomputerbooks.com/JavaScript-for-I...  \n",
       "2  https://freecomputerbooks.com/Eloquent-JavaScr...  \n",
       "3  https://freecomputerbooks.com/Deep-JavaScript-...  "
      ]
     },
     "execution_count": 5,
     "metadata": {},
     "output_type": "execute_result"
    }
   ],
   "source": [
    "df.head(4)"
   ]
  },
  {
   "cell_type": "code",
   "execution_count": 6,
   "id": "2569585a",
   "metadata": {},
   "outputs": [],
   "source": [
    "def clean_text(text):\n",
    "    if not isinstance(text, str):\n",
    "        return ''\n",
    "    stop = set(stopwords.words('english'))\n",
    "    text = text.lower()\n",
    "    text = ''.join([t for t in text if t not in punctuation])\n",
    "    text = ' '.join([t for t in text.split() if t not in stop])\n",
    "    return text\n"
   ]
  },
  {
   "cell_type": "code",
   "execution_count": 7,
   "id": "e0ba378a",
   "metadata": {},
   "outputs": [],
   "source": [
    "df['clean_title'] = df['title'].apply(clean_text)\n",
    "df['clean_url'] = df['url'].apply(clean_text)"
   ]
  },
  {
   "cell_type": "code",
   "execution_count": 8,
   "id": "2973af22",
   "metadata": {},
   "outputs": [],
   "source": [
    "vectorizer = TfidfVectorizer(analyzer='word', lowercase=False)\n",
    "X = vectorizer.fit_transform(df['clean_title'])\n",
    "title_vectors = X.toarray()"
   ]
  },
  {
   "cell_type": "code",
   "execution_count": 9,
   "id": "1a52e69f",
   "metadata": {},
   "outputs": [],
   "source": [
    "def get_recommendations(title, feature_locate, df, vectors, feature, stop):\n",
    "    index_of_element = df[df[feature_locate]==title].index.values[0]\n",
    "    query_vector = vectors[index_of_element]\n",
    "    cos_sim = cosine_similarity([query_vector], vectors)[0]\n",
    "    rec_index = cos_sim.argsort()[-11:-1][::-1]\n",
    "    rec_df = df.iloc[rec_index].reset_index(drop=True)\n",
    "    rec_df['clean_Description'] = rec_df['clean_Description'].apply(lambda x: ' '.join([word for word in x.split() if word not in (stop)]))\n",
    "    return rec_df[['Book_title', 'Author', 'Rating', 'Price', 'clean_Description', feature]]"
   ]
  },
  {
   "cell_type": "code",
   "execution_count": 10,
   "id": "a5cab5d6",
   "metadata": {},
   "outputs": [],
   "source": [
    "book_title = 'JavaScript Frameworks/Libraries (React.js, Angular, Node.js, etc.)'\n",
    "feature = 'Book'"
   ]
  },
  {
   "cell_type": "code",
   "execution_count": 11,
   "id": "77a36455",
   "metadata": {},
   "outputs": [],
   "source": [
    "def get_recommendations(book_title, query_field, df, vectors, feature, stop):\n",
    "    query_vector = vectors[df[df[query_field] == book_title].index.values[0]]\n",
    "    cosine_similarities = cosine_similarity(query_vector.reshape(1, -1), vectors).flatten()\n",
    "    related_docs_indices = cosine_similarities.argsort()[::-1]\n",
    "    topk_indices = related_docs_indices[1:TOP_K + 1]\n",
    "    recommendations = df.iloc[topk_indices].reset_index(drop=True)\n",
    "    if len(recommendations) == 0:\n",
    "        recommendations = pd.DataFrame(columns=df.columns)\n",
    "    recommendations['clean_Description'] = recommendations['Description'].apply(clean_text)\n",
    "    return recommendations\n"
   ]
  },
  {
   "cell_type": "code",
   "execution_count": 12,
   "id": "f54edd0d",
   "metadata": {},
   "outputs": [],
   "source": [
    "def get_recommendations(book_title, query_field, df, vectors, feature, stop):\n",
    "    recommendations = pd.DataFrame(columns=df.columns)\n",
    "    query_df = df[df[query_field] == book_title]\n",
    "    if len(query_df) == 0:\n",
    "        print(\"Error: No matches found for book title in query field.\")\n",
    "        return recommendations\n",
    "    query_vector = vectors[query_df.index.values[0]]\n",
    "    cosine_similarities = cosine_similarity(query_vector.reshape(1, -1), vectors).flatten()\n",
    "    related_docs_indices = cosine_similarities.argsort()[::-1]\n",
    "    topk_indices = related_docs_indices[1:TOP_K + 1]\n",
    "    recommendations = df.iloc[topk_indices].reset_index(drop=True)\n",
    "    if len(recommendations) == 0:\n",
    "        print(\"Error: No recommendations found for the given book title.\")\n",
    "        return recommendations\n",
    "    recommendations['clean_Description'] = recommendations['Description'].apply(clean_text)\n",
    "    return recommendations\n"
   ]
  },
  {
   "cell_type": "code",
   "execution_count": 13,
   "id": "22a1e9b1",
   "metadata": {},
   "outputs": [],
   "source": [
    "def book_recommend(book, book_df, similarity):\n",
    "    index = book_df[book_df['Title'] == book].index[0]\n",
    "    distances = sorted(list(enumerate(similarity[index])), reverse=True, key=lambda x: x[1])\n",
    "    recommended_books = []\n",
    "    for i in distances[1:6]:\n",
    "        book_title = book_df.iloc[i[0]].Title\n",
    "        if book_title not in recommended_books and book_title != book:\n",
    "            recommended_books.append(book_title)\n",
    "    return recommended_books\n"
   ]
  },
  {
   "cell_type": "code",
   "execution_count": 14,
   "id": "fc378bd1",
   "metadata": {},
   "outputs": [],
   "source": [
    "new_df=pd.DataFrame(df,columns=['title', 'url','description' ])"
   ]
  },
  {
   "cell_type": "code",
   "execution_count": 15,
   "id": "301102cb",
   "metadata": {},
   "outputs": [
    {
     "data": {
      "text/html": [
       "<div>\n",
       "<style scoped>\n",
       "    .dataframe tbody tr th:only-of-type {\n",
       "        vertical-align: middle;\n",
       "    }\n",
       "\n",
       "    .dataframe tbody tr th {\n",
       "        vertical-align: top;\n",
       "    }\n",
       "\n",
       "    .dataframe thead th {\n",
       "        text-align: right;\n",
       "    }\n",
       "</style>\n",
       "<table border=\"1\" class=\"dataframe\">\n",
       "  <thead>\n",
       "    <tr style=\"text-align: right;\">\n",
       "      <th></th>\n",
       "      <th>title</th>\n",
       "      <th>url</th>\n",
       "      <th>description</th>\n",
       "    </tr>\n",
       "  </thead>\n",
       "  <tbody>\n",
       "    <tr>\n",
       "      <th>0</th>\n",
       "      <td>JavaScript Frameworks/Libraries (React.js, An...</td>\n",
       "      <td>https://freecomputerbooks.com/webJavaScriptFra...</td>\n",
       "      <td>A collection of JavaScript Frameworks/Librarie...</td>\n",
       "    </tr>\n",
       "    <tr>\n",
       "      <th>1</th>\n",
       "      <td>JavaScript for Impatient Programmers (Axel Ra...</td>\n",
       "      <td>https://freecomputerbooks.com/JavaScript-for-I...</td>\n",
       "      <td>This book makes JavaScript less challenging to...</td>\n",
       "    </tr>\n",
       "    <tr>\n",
       "      <th>2</th>\n",
       "      <td>Eloquent JavaScript, 3rd Edition: A Modern In...</td>\n",
       "      <td>https://freecomputerbooks.com/Eloquent-JavaScr...</td>\n",
       "      <td>Eloquent JavaScript dives deep into the JavaSc...</td>\n",
       "    </tr>\n",
       "    <tr>\n",
       "      <th>3</th>\n",
       "      <td>Deep JavaScript: Theory and Techniques (Axel ...</td>\n",
       "      <td>https://freecomputerbooks.com/Deep-JavaScript-...</td>\n",
       "      <td>In depth knowledge of JavaScript makes it easi...</td>\n",
       "    </tr>\n",
       "    <tr>\n",
       "      <th>4</th>\n",
       "      <td>You Don't Know JS Yet: Get Started - 2nd Ed. ...</td>\n",
       "      <td>https://freecomputerbooks.com/You-Dont-Know-JS...</td>\n",
       "      <td>By learning the basic building blocks of progr...</td>\n",
       "    </tr>\n",
       "  </tbody>\n",
       "</table>\n",
       "</div>"
      ],
      "text/plain": [
       "                                               title  \\\n",
       "0   JavaScript Frameworks/Libraries (React.js, An...   \n",
       "1   JavaScript for Impatient Programmers (Axel Ra...   \n",
       "2   Eloquent JavaScript, 3rd Edition: A Modern In...   \n",
       "3   Deep JavaScript: Theory and Techniques (Axel ...   \n",
       "4   You Don't Know JS Yet: Get Started - 2nd Ed. ...   \n",
       "\n",
       "                                                 url  \\\n",
       "0  https://freecomputerbooks.com/webJavaScriptFra...   \n",
       "1  https://freecomputerbooks.com/JavaScript-for-I...   \n",
       "2  https://freecomputerbooks.com/Eloquent-JavaScr...   \n",
       "3  https://freecomputerbooks.com/Deep-JavaScript-...   \n",
       "4  https://freecomputerbooks.com/You-Dont-Know-JS...   \n",
       "\n",
       "                                         description  \n",
       "0  A collection of JavaScript Frameworks/Librarie...  \n",
       "1  This book makes JavaScript less challenging to...  \n",
       "2  Eloquent JavaScript dives deep into the JavaSc...  \n",
       "3  In depth knowledge of JavaScript makes it easi...  \n",
       "4  By learning the basic building blocks of progr...  "
      ]
     },
     "execution_count": 15,
     "metadata": {},
     "output_type": "execute_result"
    }
   ],
   "source": [
    "new_df.head()"
   ]
  },
  {
   "cell_type": "code",
   "execution_count": 16,
   "id": "4e51705c",
   "metadata": {},
   "outputs": [
    {
     "data": {
      "text/plain": [
       "title          0\n",
       "url            0\n",
       "description    1\n",
       "dtype: int64"
      ]
     },
     "execution_count": 16,
     "metadata": {},
     "output_type": "execute_result"
    }
   ],
   "source": [
    "new_df.isna().sum()"
   ]
  },
  {
   "cell_type": "code",
   "execution_count": 17,
   "id": "8e0dba1d",
   "metadata": {},
   "outputs": [],
   "source": [
    "new_df[\"url\"]=new_df[\"url\"].fillna(0)"
   ]
  },
  {
   "cell_type": "code",
   "execution_count": 18,
   "id": "48f0ef12",
   "metadata": {},
   "outputs": [
    {
     "name": "stderr",
     "output_type": "stream",
     "text": [
      "C:\\Users\\ACER\\AppData\\Local\\Temp\\ipykernel_9004\\2950623829.py:8: SettingWithCopyWarning: \n",
      "A value is trying to be set on a copy of a slice from a DataFrame\n",
      "\n",
      "See the caveats in the documentation: https://pandas.pydata.org/pandas-docs/stable/user_guide/indexing.html#returning-a-view-versus-a-copy\n",
      "  new_df[\"url\"][i] = x\n"
     ]
    }
   ],
   "source": [
    "url = list(enumerate(new_df[\"url\"]))\n",
    "new_df[\"url\"] = 0\n",
    "for i in range(len(url)):\n",
    "    if pd.isnull(new_df[\"title\"][url[i][0]]):\n",
    "        continue  # skip NaN values\n",
    "    if new_df[\"url\"][i] == 0:\n",
    "        x = (\"{}/{}\".format(\"https://www.\", str(\"\".join(list(new_df[\"title\"][url[i][0]].split())))))\n",
    "        new_df[\"url\"][i] = x\n",
    "    else:\n",
    "        new_df[\"url\"][i] = new_df[\"url\"][i]\n"
   ]
  },
  {
   "cell_type": "code",
   "execution_count": 19,
   "id": "98f1cee8",
   "metadata": {},
   "outputs": [
    {
     "data": {
      "text/plain": [
       "0       https://www./JavaScriptFrameworks/Libraries(Re...\n",
       "1       https://www./JavaScriptforImpatientProgrammers...\n",
       "2       https://www./EloquentJavaScript,3rdEdition:AMo...\n",
       "3       https://www./DeepJavaScript:TheoryandTechnique...\n",
       "4       https://www./YouDon'tKnowJSYet:GetStarted-2ndE...\n",
       "                              ...                        \n",
       "1098             https://www./COBOLProgrammingFundamental\n",
       "1099                   https://www./LearnCOBOLProgramming\n",
       "1100                https://www./AGuidetoCOBOLProgramming\n",
       "1101               https://www./COBOLProgrammingStandards\n",
       "1102               https://www./GnuCOBOLProgrammer'sGuide\n",
       "Name: url, Length: 1103, dtype: object"
      ]
     },
     "execution_count": 19,
     "metadata": {},
     "output_type": "execute_result"
    }
   ],
   "source": [
    "new_df[\"url\"]"
   ]
  },
  {
   "cell_type": "code",
   "execution_count": 20,
   "id": "a57114be",
   "metadata": {},
   "outputs": [
    {
     "data": {
      "text/html": [
       "<div>\n",
       "<style scoped>\n",
       "    .dataframe tbody tr th:only-of-type {\n",
       "        vertical-align: middle;\n",
       "    }\n",
       "\n",
       "    .dataframe tbody tr th {\n",
       "        vertical-align: top;\n",
       "    }\n",
       "\n",
       "    .dataframe thead th {\n",
       "        text-align: right;\n",
       "    }\n",
       "</style>\n",
       "<table border=\"1\" class=\"dataframe\">\n",
       "  <thead>\n",
       "    <tr style=\"text-align: right;\">\n",
       "      <th></th>\n",
       "      <th>title</th>\n",
       "      <th>url</th>\n",
       "      <th>description</th>\n",
       "    </tr>\n",
       "  </thead>\n",
       "  <tbody>\n",
       "    <tr>\n",
       "      <th>903</th>\n",
       "      <td>Objective-C 2.0 Essentials, Third Edition</td>\n",
       "      <td>https://www./Objective-C2.0Essentials,ThirdEdi...</td>\n",
       "      <td>Now updated for the new \"Modern Objective-C\" f...</td>\n",
       "    </tr>\n",
       "    <tr>\n",
       "      <th>886</th>\n",
       "      <td>Language Translation Using PCCTS and C++: A Re...</td>\n",
       "      <td>https://www./LanguageTranslationUsingPCCTSandC...</td>\n",
       "      <td>This book is a reference guide for the parser ...</td>\n",
       "    </tr>\n",
       "    <tr>\n",
       "      <th>678</th>\n",
       "      <td>Lexical Analysis and Parsing using C++ (Bruno...</td>\n",
       "      <td>https://www./LexicalAnalysisandParsingusingC++...</td>\n",
       "      <td>This textbook describes all phases of a modern...</td>\n",
       "    </tr>\n",
       "    <tr>\n",
       "      <th>273</th>\n",
       "      <td>Developing Reactive Microservices: Implementa...</td>\n",
       "      <td>https://www./DevelopingReactiveMicroservices:I...</td>\n",
       "      <td>In this book, author walks Java developers thr...</td>\n",
       "    </tr>\n",
       "    <tr>\n",
       "      <th>365</th>\n",
       "      <td>The Definitive Guide to symfony (Fabien Poten...</td>\n",
       "      <td>https://www./TheDefinitiveGuidetosymfony(Fabie...</td>\n",
       "      <td>You will learn about the Model-View-Controller...</td>\n",
       "    </tr>\n",
       "  </tbody>\n",
       "</table>\n",
       "</div>"
      ],
      "text/plain": [
       "                                                 title  \\\n",
       "903          Objective-C 2.0 Essentials, Third Edition   \n",
       "886  Language Translation Using PCCTS and C++: A Re...   \n",
       "678   Lexical Analysis and Parsing using C++ (Bruno...   \n",
       "273   Developing Reactive Microservices: Implementa...   \n",
       "365   The Definitive Guide to symfony (Fabien Poten...   \n",
       "\n",
       "                                                   url  \\\n",
       "903  https://www./Objective-C2.0Essentials,ThirdEdi...   \n",
       "886  https://www./LanguageTranslationUsingPCCTSandC...   \n",
       "678  https://www./LexicalAnalysisandParsingusingC++...   \n",
       "273  https://www./DevelopingReactiveMicroservices:I...   \n",
       "365  https://www./TheDefinitiveGuidetosymfony(Fabie...   \n",
       "\n",
       "                                           description  \n",
       "903  Now updated for the new \"Modern Objective-C\" f...  \n",
       "886  This book is a reference guide for the parser ...  \n",
       "678  This textbook describes all phases of a modern...  \n",
       "273  In this book, author walks Java developers thr...  \n",
       "365  You will learn about the Model-View-Controller...  "
      ]
     },
     "execution_count": 20,
     "metadata": {},
     "output_type": "execute_result"
    }
   ],
   "source": [
    "new_df.sample(5)"
   ]
  },
  {
   "cell_type": "code",
   "execution_count": 21,
   "id": "968ba6b1",
   "metadata": {},
   "outputs": [],
   "source": [
    "def spliting(text):\n",
    "  text=str(text).split()\n",
    "  return text"
   ]
  },
  {
   "cell_type": "code",
   "execution_count": 22,
   "id": "1f69affb",
   "metadata": {},
   "outputs": [],
   "source": [
    "new_df['description']=new_df['description'].apply(spliting)"
   ]
  },
  {
   "cell_type": "code",
   "execution_count": 23,
   "id": "ac85aafc",
   "metadata": {},
   "outputs": [
    {
     "data": {
      "text/html": [
       "<div>\n",
       "<style scoped>\n",
       "    .dataframe tbody tr th:only-of-type {\n",
       "        vertical-align: middle;\n",
       "    }\n",
       "\n",
       "    .dataframe tbody tr th {\n",
       "        vertical-align: top;\n",
       "    }\n",
       "\n",
       "    .dataframe thead th {\n",
       "        text-align: right;\n",
       "    }\n",
       "</style>\n",
       "<table border=\"1\" class=\"dataframe\">\n",
       "  <thead>\n",
       "    <tr style=\"text-align: right;\">\n",
       "      <th></th>\n",
       "      <th>title</th>\n",
       "      <th>url</th>\n",
       "      <th>description</th>\n",
       "    </tr>\n",
       "  </thead>\n",
       "  <tbody>\n",
       "    <tr>\n",
       "      <th>0</th>\n",
       "      <td>JavaScript Frameworks/Libraries (React.js, An...</td>\n",
       "      <td>https://www./JavaScriptFrameworks/Libraries(Re...</td>\n",
       "      <td>[A, collection, of, JavaScript, Frameworks/Lib...</td>\n",
       "    </tr>\n",
       "    <tr>\n",
       "      <th>1</th>\n",
       "      <td>JavaScript for Impatient Programmers (Axel Ra...</td>\n",
       "      <td>https://www./JavaScriptforImpatientProgrammers...</td>\n",
       "      <td>[This, book, makes, JavaScript, less, challeng...</td>\n",
       "    </tr>\n",
       "    <tr>\n",
       "      <th>2</th>\n",
       "      <td>Eloquent JavaScript, 3rd Edition: A Modern In...</td>\n",
       "      <td>https://www./EloquentJavaScript,3rdEdition:AMo...</td>\n",
       "      <td>[Eloquent, JavaScript, dives, deep, into, the,...</td>\n",
       "    </tr>\n",
       "    <tr>\n",
       "      <th>3</th>\n",
       "      <td>Deep JavaScript: Theory and Techniques (Axel ...</td>\n",
       "      <td>https://www./DeepJavaScript:TheoryandTechnique...</td>\n",
       "      <td>[In, depth, knowledge, of, JavaScript, makes, ...</td>\n",
       "    </tr>\n",
       "    <tr>\n",
       "      <th>4</th>\n",
       "      <td>You Don't Know JS Yet: Get Started - 2nd Ed. ...</td>\n",
       "      <td>https://www./YouDon'tKnowJSYet:GetStarted-2ndE...</td>\n",
       "      <td>[By, learning, the, basic, building, blocks, o...</td>\n",
       "    </tr>\n",
       "  </tbody>\n",
       "</table>\n",
       "</div>"
      ],
      "text/plain": [
       "                                               title  \\\n",
       "0   JavaScript Frameworks/Libraries (React.js, An...   \n",
       "1   JavaScript for Impatient Programmers (Axel Ra...   \n",
       "2   Eloquent JavaScript, 3rd Edition: A Modern In...   \n",
       "3   Deep JavaScript: Theory and Techniques (Axel ...   \n",
       "4   You Don't Know JS Yet: Get Started - 2nd Ed. ...   \n",
       "\n",
       "                                                 url  \\\n",
       "0  https://www./JavaScriptFrameworks/Libraries(Re...   \n",
       "1  https://www./JavaScriptforImpatientProgrammers...   \n",
       "2  https://www./EloquentJavaScript,3rdEdition:AMo...   \n",
       "3  https://www./DeepJavaScript:TheoryandTechnique...   \n",
       "4  https://www./YouDon'tKnowJSYet:GetStarted-2ndE...   \n",
       "\n",
       "                                         description  \n",
       "0  [A, collection, of, JavaScript, Frameworks/Lib...  \n",
       "1  [This, book, makes, JavaScript, less, challeng...  \n",
       "2  [Eloquent, JavaScript, dives, deep, into, the,...  \n",
       "3  [In, depth, knowledge, of, JavaScript, makes, ...  \n",
       "4  [By, learning, the, basic, building, blocks, o...  "
      ]
     },
     "execution_count": 23,
     "metadata": {},
     "output_type": "execute_result"
    }
   ],
   "source": [
    "new_df.head()"
   ]
  },
  {
   "cell_type": "code",
   "execution_count": 24,
   "id": "dad43644",
   "metadata": {},
   "outputs": [],
   "source": [
    "import nltk\n",
    "from nltk.stem.porter import PorterStemmer\n",
    "ps=PorterStemmer()\n",
    "def steming(text):\n",
    "  l=[]\n",
    "  for i in text:\n",
    "\n",
    "    l.append(ps.stem(i))\n",
    "  return l"
   ]
  },
  {
   "cell_type": "code",
   "execution_count": 25,
   "id": "701fa973",
   "metadata": {},
   "outputs": [
    {
     "name": "stdout",
     "output_type": "stream",
     "text": [
      "Requirement already satisfied: nltk in c:\\users\\acer\\anaconda3\\lib\\site-packages (3.8.1)\n",
      "Requirement already satisfied: joblib in c:\\users\\acer\\anaconda3\\lib\\site-packages (from nltk) (1.2.0)\n",
      "Requirement already satisfied: tqdm in c:\\users\\acer\\anaconda3\\lib\\site-packages (from nltk) (4.64.1)\n",
      "Requirement already satisfied: regex>=2021.8.3 in c:\\users\\acer\\anaconda3\\lib\\site-packages (from nltk) (2022.7.9)\n",
      "Requirement already satisfied: click in c:\\users\\acer\\anaconda3\\lib\\site-packages (from nltk) (8.0.4)\n",
      "Requirement already satisfied: colorama in c:\\users\\acer\\anaconda3\\lib\\site-packages (from click->nltk) (0.4.5)\n",
      "Note: you may need to restart the kernel to use updated packages.\n"
     ]
    }
   ],
   "source": [
    "pip install nltk"
   ]
  },
  {
   "cell_type": "code",
   "execution_count": 26,
   "id": "3079b22d",
   "metadata": {},
   "outputs": [
    {
     "data": {
      "text/html": [
       "<div>\n",
       "<style scoped>\n",
       "    .dataframe tbody tr th:only-of-type {\n",
       "        vertical-align: middle;\n",
       "    }\n",
       "\n",
       "    .dataframe tbody tr th {\n",
       "        vertical-align: top;\n",
       "    }\n",
       "\n",
       "    .dataframe thead th {\n",
       "        text-align: right;\n",
       "    }\n",
       "</style>\n",
       "<table border=\"1\" class=\"dataframe\">\n",
       "  <thead>\n",
       "    <tr style=\"text-align: right;\">\n",
       "      <th></th>\n",
       "      <th>title</th>\n",
       "      <th>url</th>\n",
       "      <th>description</th>\n",
       "    </tr>\n",
       "  </thead>\n",
       "  <tbody>\n",
       "    <tr>\n",
       "      <th>167</th>\n",
       "      <td>Hadoop with Python (Zachary Radtka, et al)</td>\n",
       "      <td>https://www./HadoopwithPython(ZacharyRadtka,etal)</td>\n",
       "      <td>[This, book, takes, you, through, the, basic, ...</td>\n",
       "    </tr>\n",
       "    <tr>\n",
       "      <th>560</th>\n",
       "      <td>C Elements of Style: Style Manual for Elegant...</td>\n",
       "      <td>https://www./CElementsofStyle:StyleManualforEl...</td>\n",
       "      <td>[This, handy, guide, covers, the, principals, ...</td>\n",
       "    </tr>\n",
       "    <tr>\n",
       "      <th>551</th>\n",
       "      <td>C Programming in Linux (David Haskins)</td>\n",
       "      <td>https://www./CProgramminginLinux(DavidHaskins)</td>\n",
       "      <td>[This, book, will, give, you, an, interesting,...</td>\n",
       "    </tr>\n",
       "    <tr>\n",
       "      <th>915</th>\n",
       "      <td>OCaml from the Very Beginning</td>\n",
       "      <td>https://www./OCamlfromtheVeryBeginning</td>\n",
       "      <td>[This, book, takes, a, no-prerequisites, appro...</td>\n",
       "    </tr>\n",
       "    <tr>\n",
       "      <th>939</th>\n",
       "      <td>Logic Programming in Scheme</td>\n",
       "      <td>https://www./LogicProgramminginScheme</td>\n",
       "      <td>[Questions, answered, in, this, little, book:,...</td>\n",
       "    </tr>\n",
       "  </tbody>\n",
       "</table>\n",
       "</div>"
      ],
      "text/plain": [
       "                                                 title  \\\n",
       "167         Hadoop with Python (Zachary Radtka, et al)   \n",
       "560   C Elements of Style: Style Manual for Elegant...   \n",
       "551             C Programming in Linux (David Haskins)   \n",
       "915                     OCaml from the Very Beginning    \n",
       "939                       Logic Programming in Scheme    \n",
       "\n",
       "                                                   url  \\\n",
       "167  https://www./HadoopwithPython(ZacharyRadtka,etal)   \n",
       "560  https://www./CElementsofStyle:StyleManualforEl...   \n",
       "551     https://www./CProgramminginLinux(DavidHaskins)   \n",
       "915             https://www./OCamlfromtheVeryBeginning   \n",
       "939              https://www./LogicProgramminginScheme   \n",
       "\n",
       "                                           description  \n",
       "167  [This, book, takes, you, through, the, basic, ...  \n",
       "560  [This, handy, guide, covers, the, principals, ...  \n",
       "551  [This, book, will, give, you, an, interesting,...  \n",
       "915  [This, book, takes, a, no-prerequisites, appro...  \n",
       "939  [Questions, answered, in, this, little, book:,...  "
      ]
     },
     "execution_count": 26,
     "metadata": {},
     "output_type": "execute_result"
    }
   ],
   "source": [
    "new_df.sample(5)"
   ]
  },
  {
   "cell_type": "code",
   "execution_count": 27,
   "id": "e1361664",
   "metadata": {},
   "outputs": [],
   "source": [
    "def _join(text):\n",
    "    return ' '.join(text)"
   ]
  },
  {
   "cell_type": "code",
   "execution_count": 28,
   "id": "ad6bd527",
   "metadata": {},
   "outputs": [],
   "source": [
    "new_df[\"description\"] = new_df[\"description\"].apply(_join)"
   ]
  },
  {
   "cell_type": "code",
   "execution_count": 29,
   "id": "28dd6020",
   "metadata": {},
   "outputs": [],
   "source": [
    "new_df['description'] = new_df['description'].apply(lambda x: \" \".join(x))"
   ]
  },
  {
   "cell_type": "code",
   "execution_count": 30,
   "id": "f89569f0",
   "metadata": {},
   "outputs": [],
   "source": [
    "from sklearn.feature_extraction.text import CountVectorizer\n",
    "cv = CountVectorizer(stop_words='english')"
   ]
  },
  {
   "cell_type": "code",
   "execution_count": 31,
   "id": "4a09b527",
   "metadata": {},
   "outputs": [
    {
     "name": "stdout",
     "output_type": "stream",
     "text": [
      "frozenset({'will', 'rather', 'other', 'enough', 'seeming', 'up', 'yourselves', 'such', 'if', 'am', 'mine', 'somehow', 'between', 'back', 'twelve', 'towards', 'seem', 'but', 'same', 'so', 'while', 'themselves', 'also', 'third', 'hasnt', 'along', 'should', 'during', 'find', 'get', 'to', 'himself', 'very', 'someone', 'above', 'others', 'off', 'within', 'being', 'herein', 'behind', 'often', 'show', 'almost', 'bottom', 'although', 'see', 'nine', 'sixty', 'they', 'of', 'former', 'eleven', 'take', 'as', 'top', 'system', 'hence', 'throughout', 'when', 'alone', 'detail', 'whereafter', 'were', 'whatever', 'than', 'do', 'latter', 'yet', 'de', 'afterwards', 'that', 'seemed', 'whereupon', 'here', 'upon', 'too', 'none', 'perhaps', 'he', 'indeed', 'can', 'fire', 'five', 'what', 'all', 'nevertheless', 'forty', 'herself', 'those', 'before', 'myself', 'the', 'ten', 'well', 'why', 'them', 'interest', 'over', 'co', 'where', 'even', 'four', 'now', 'namely', 'everyone', 'only', 'with', 'thereupon', 'him', 'until', 'much', 'anywhere', 'noone', 'sometime', 'yourself', 'ever', 'each', 'could', 'cry', 'whole', 'somewhere', 'no', 'made', 'never', 'formerly', 'thin', 'whereby', 'whence', 'otherwise', 'their', 'already', 'wherever', 'in', 'there', 'at', 'itself', 'these', 'any', 'six', 'several', 'thru', 'more', 'us', 'keep', 'inc', 'are', 'ie', 'couldnt', 'less', 'anyone', 'nothing', 'may', 'therein', 'sometimes', 'every', 'thick', 'down', 'latterly', 'thereby', 'something', 'amoungst', 're', 'was', 'etc', 'serious', 'most', 'un', 'whoever', 'hers', 'eg', 'by', 'mostly', 'move', 'whose', 'describe', 'is', 'hundred', 'becoming', 'next', 'due', 'therefore', 'or', 'give', 'always', 'three', 'how', 'cannot', 'a', 'have', 'everywhere', 'became', 'then', 'toward', 'besides', 'whether', 'after', 'mill', 'whither', 'one', 'put', 'around', 'neither', 'been', 'has', 'wherein', 'together', 'seems', 'full', 'per', 'meanwhile', 'fill', 'own', 'fifteen', 'still', 'though', 'many', 'twenty', 'moreover', 'everything', 'two', 'anyhow', 'beyond', 'among', 'please', 'except', 'hereafter', 'for', 'again', 'least', 'whereas', 'sincere', 'who', 'part', 'either', 'below', 'his', 'amount', 'name', 'she', 'call', 'else', 'through', 'under', 'since', 'had', 'go', 'front', 'ours', 'an', 'found', 'we', 'elsewhere', 'its', 'nor', 'without', 'nowhere', 'some', 'your', 'hereby', 'whenever', 'con', 'anything', 'would', 'nobody', 'our', 'be', 'you', 'anyway', 'beforehand', 'amongst', 'via', 'must', 'which', 'eight', 'becomes', 'another', 'about', 'thence', 'bill', 'i', 'last', 'hereupon', 'on', 'however', 'my', 'first', 'onto', 'once', 'both', 'ourselves', 'side', 'her', 'become', 'cant', 'fifty', 'thus', 'from', 'across', 'this', 'beside', 'into', 'done', 'against', 'few', 'yours', 'empty', 'ltd', 'because', 'me', 'out', 'not', 'thereafter', 'further', 'it', 'and', 'whom', 'might'})\n"
     ]
    }
   ],
   "source": [
    "print(cv.get_stop_words())"
   ]
  },
  {
   "cell_type": "code",
   "execution_count": 32,
   "id": "22e82061",
   "metadata": {},
   "outputs": [],
   "source": [
    "from sklearn.feature_extraction.text import CountVectorizer\n",
    "text_data = df['description'].values.astype('U')\n",
    "cv = CountVectorizer()\n",
    "data = cv.fit_transform(text_data).toarray()\n"
   ]
  },
  {
   "cell_type": "code",
   "execution_count": 33,
   "id": "14acd37f",
   "metadata": {},
   "outputs": [],
   "source": [
    "text_data = df['description'].values.astype('U')"
   ]
  },
  {
   "cell_type": "code",
   "execution_count": 34,
   "id": "615686d3",
   "metadata": {},
   "outputs": [],
   "source": [
    "from sklearn.metrics.pairwise import cosine_similarity\n",
    "similarity = cosine_similarity(data)"
   ]
  },
  {
   "cell_type": "code",
   "execution_count": 44,
   "id": "9bf182fd",
   "metadata": {},
   "outputs": [],
   "source": [
    "def book_recommend(book):\n",
    "    index = new_df[new_df['title'] == book].index[0]\n",
    "    distances = sorted(list(enumerate(similarity[index])),reverse=True,key = lambda x: x[1])\n",
    "    for i in distances[1:8]:\n",
    "\n",
    "      \n",
    "      print(\"{} {}\".format(new_df.iloc[i[0]].title,new_df.iloc[i[0]].url))"
   ]
  },
  {
   "cell_type": "code",
   "execution_count": 45,
   "id": "b79b5e3d",
   "metadata": {},
   "outputs": [
    {
     "name": "stdout",
     "output_type": "stream",
     "text": [
      " I Love Ruby (Karthikeyan A K) https://www./ILoveRuby(KarthikeyanAK)\n",
      "Arduino Projects Book https://www./ArduinoProjectsBook\n",
      " Python Machine Learning Projects (Brian Boucheron, et al) https://www./PythonMachineLearningProjects(BrianBoucheron,etal)\n",
      " An Introduction to R (Alex Douglas, et al.) https://www./AnIntroductiontoR(AlexDouglas,etal.)\n",
      " SCJP Sun Certified Programmer for Java 6 Exam 310-065 https://www./SCJPSunCertifiedProgrammerforJava6Exam310-065\n",
      " How To Code in Go (Mark Bates, et al) https://www./HowToCodeinGo(MarkBates,etal)\n",
      " Adobe Integrated Runtime (AIR) for JavaScript Developers https://www./AdobeIntegratedRuntime(AIR)forJavaScriptDevelopers\n"
     ]
    }
   ],
   "source": [
    "book_recommend(\"Erlang Programming\")"
   ]
  },
  {
   "cell_type": "code",
   "execution_count": 37,
   "id": "571eac6b",
   "metadata": {},
   "outputs": [],
   "source": [
    "import pickle"
   ]
  },
  {
   "cell_type": "code",
   "execution_count": 38,
   "id": "eb94619f",
   "metadata": {},
   "outputs": [],
   "source": [
    "pickle.dump(new_df,open(\"book_recm.pkl\",\"wb\"))\n",
    "pickle.dump(similarity,open(\"similarity.pkl\",\"wb\"))"
   ]
  },
  {
   "cell_type": "code",
   "execution_count": 39,
   "id": "03dfe210",
   "metadata": {},
   "outputs": [
    {
     "data": {
      "text/plain": [
       "array([' JavaScript Frameworks/Libraries (React.js, Angular, Node.js, etc.)',\n",
       "       ' JavaScript for Impatient Programmers (Axel Rauschmayer)',\n",
       "       ' Eloquent JavaScript, 3rd Edition: A Modern Introduction', ...,\n",
       "       'A Guide to COBOL Programming', 'COBOL Programming Standards',\n",
       "       \"Gnu COBOL Programmer's Guide\"], dtype=object)"
      ]
     },
     "execution_count": 39,
     "metadata": {},
     "output_type": "execute_result"
    }
   ],
   "source": [
    "np.array(new_df[\"title\"])"
   ]
  },
  {
   "cell_type": "code",
   "execution_count": null,
   "id": "6174addd",
   "metadata": {},
   "outputs": [],
   "source": []
  }
 ],
 "metadata": {
  "kernelspec": {
   "display_name": "Python 3 (ipykernel)",
   "language": "python",
   "name": "python3"
  },
  "language_info": {
   "codemirror_mode": {
    "name": "ipython",
    "version": 3
   },
   "file_extension": ".py",
   "mimetype": "text/x-python",
   "name": "python",
   "nbconvert_exporter": "python",
   "pygments_lexer": "ipython3",
   "version": "3.9.13"
  }
 },
 "nbformat": 4,
 "nbformat_minor": 5
}
