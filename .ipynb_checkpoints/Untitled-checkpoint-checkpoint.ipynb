{
 "cells": [
  {
   "cell_type": "code",
   "execution_count": 12,
   "id": "6350e23a",
   "metadata": {},
   "outputs": [],
   "source": [
    "import numpy as np\n",
    "import pandas as pd\n",
    "from sklearn.feature_extraction.text import TfidfVectorizer\n",
    "from sklearn.metrics.pairwise import cosine_similarity\n",
    "from string import punctuation\n",
    "from nltk.corpus import stopwords\n",
    "import nltk\n",
    "from nltk.corpus import stopwords\n",
    "TOP_K = 5"
   ]
  },
  {
   "cell_type": "code",
   "execution_count": 13,
   "id": "4933af20",
   "metadata": {},
   "outputs": [
    {
     "name": "stdout",
     "output_type": "stream",
     "text": [
      "run\n"
     ]
    }
   ],
   "source": [
    "import nltk\n",
    "from nltk.stem import PorterStemmer\n",
    "\n",
    "stemmer = PorterStemmer()\n",
    "word = 'running'\n",
    "stemmed_word = stemmer.stem(word)\n",
    "print(stemmed_word)"
   ]
  },
  {
   "cell_type": "code",
   "execution_count": 14,
   "id": "ae5d2cbe",
   "metadata": {},
   "outputs": [
    {
     "name": "stderr",
     "output_type": "stream",
     "text": [
      "[nltk_data] Downloading package stopwords to\n",
      "[nltk_data]     C:\\Users\\ACER\\AppData\\Roaming\\nltk_data...\n",
      "[nltk_data]   Package stopwords is already up-to-date!\n"
     ]
    }
   ],
   "source": [
    "nltk.download('stopwords')\n",
    "stop = stopwords.words('english')"
   ]
  },
  {
   "cell_type": "code",
   "execution_count": 15,
   "id": "179e2a0c",
   "metadata": {},
   "outputs": [],
   "source": [
    "df = pd.read_csv(\"bastonedd.csv\")"
   ]
  },
  {
   "cell_type": "code",
   "execution_count": 16,
   "id": "b2b0dfa2",
   "metadata": {},
   "outputs": [
    {
     "data": {
      "text/html": [
       "<div>\n",
       "<style scoped>\n",
       "    .dataframe tbody tr th:only-of-type {\n",
       "        vertical-align: middle;\n",
       "    }\n",
       "\n",
       "    .dataframe tbody tr th {\n",
       "        vertical-align: top;\n",
       "    }\n",
       "\n",
       "    .dataframe thead th {\n",
       "        text-align: right;\n",
       "    }\n",
       "</style>\n",
       "<table border=\"1\" class=\"dataframe\">\n",
       "  <thead>\n",
       "    <tr style=\"text-align: right;\">\n",
       "      <th></th>\n",
       "      <th>title</th>\n",
       "      <th>description</th>\n",
       "      <th>url</th>\n",
       "    </tr>\n",
       "  </thead>\n",
       "  <tbody>\n",
       "    <tr>\n",
       "      <th>0</th>\n",
       "      <td>JavaScript Frameworks/Libraries (React.js, An...</td>\n",
       "      <td>A collection of JavaScript Frameworks/Librarie...</td>\n",
       "      <td>https://freecomputerbooks.com/webJavaScriptFra...</td>\n",
       "    </tr>\n",
       "    <tr>\n",
       "      <th>1</th>\n",
       "      <td>JavaScript for Impatient Programmers (Axel Ra...</td>\n",
       "      <td>This book makes JavaScript less challenging to...</td>\n",
       "      <td>https://freecomputerbooks.com/JavaScript-for-I...</td>\n",
       "    </tr>\n",
       "    <tr>\n",
       "      <th>2</th>\n",
       "      <td>Eloquent JavaScript, 3rd Edition: A Modern In...</td>\n",
       "      <td>Eloquent JavaScript dives deep into the JavaSc...</td>\n",
       "      <td>https://freecomputerbooks.com/Eloquent-JavaScr...</td>\n",
       "    </tr>\n",
       "    <tr>\n",
       "      <th>3</th>\n",
       "      <td>Deep JavaScript: Theory and Techniques (Axel ...</td>\n",
       "      <td>In depth knowledge of JavaScript makes it easi...</td>\n",
       "      <td>https://freecomputerbooks.com/Deep-JavaScript-...</td>\n",
       "    </tr>\n",
       "  </tbody>\n",
       "</table>\n",
       "</div>"
      ],
      "text/plain": [
       "                                               title  \\\n",
       "0   JavaScript Frameworks/Libraries (React.js, An...   \n",
       "1   JavaScript for Impatient Programmers (Axel Ra...   \n",
       "2   Eloquent JavaScript, 3rd Edition: A Modern In...   \n",
       "3   Deep JavaScript: Theory and Techniques (Axel ...   \n",
       "\n",
       "                                         description  \\\n",
       "0  A collection of JavaScript Frameworks/Librarie...   \n",
       "1  This book makes JavaScript less challenging to...   \n",
       "2  Eloquent JavaScript dives deep into the JavaSc...   \n",
       "3  In depth knowledge of JavaScript makes it easi...   \n",
       "\n",
       "                                                 url  \n",
       "0  https://freecomputerbooks.com/webJavaScriptFra...  \n",
       "1  https://freecomputerbooks.com/JavaScript-for-I...  \n",
       "2  https://freecomputerbooks.com/Eloquent-JavaScr...  \n",
       "3  https://freecomputerbooks.com/Deep-JavaScript-...  "
      ]
     },
     "execution_count": 16,
     "metadata": {},
     "output_type": "execute_result"
    }
   ],
   "source": [
    "df.head(4)"
   ]
  },
  {
   "cell_type": "code",
   "execution_count": 17,
   "id": "2569585a",
   "metadata": {},
   "outputs": [],
   "source": [
    "def clean_text(text):\n",
    "    if not isinstance(text, str):\n",
    "        return ''\n",
    "    stop = set(stopwords.words('english'))\n",
    "    text = text.lower()\n",
    "    text = ''.join([t for t in text if t not in punctuation])\n",
    "    text = ' '.join([t for t in text.split() if t not in stop])\n",
    "    return text\n"
   ]
  },
  {
   "cell_type": "code",
   "execution_count": 18,
   "id": "e0ba378a",
   "metadata": {},
   "outputs": [],
   "source": [
    "df['clean_title'] = df['title'].apply(clean_text)\n",
    "df['clean_url'] = df['url'].apply(clean_text)"
   ]
  },
  {
   "cell_type": "code",
   "execution_count": 19,
   "id": "2973af22",
   "metadata": {},
   "outputs": [],
   "source": [
    "vectorizer = TfidfVectorizer(analyzer='word', lowercase=False)\n",
    "X = vectorizer.fit_transform(df['clean_title'])\n",
    "title_vectors = X.toarray()"
   ]
  },
  {
   "cell_type": "code",
   "execution_count": 20,
   "id": "1a52e69f",
   "metadata": {},
   "outputs": [],
   "source": [
    "def get_recommendations(title, feature_locate, df, vectors, feature, stop):\n",
    "    index_of_element = df[df[feature_locate]==title].index.values[0]\n",
    "    query_vector = vectors[index_of_element]\n",
    "    cos_sim = cosine_similarity([query_vector], vectors)[0]\n",
    "    rec_index = cos_sim.argsort()[-11:-1][::-1]\n",
    "    rec_df = df.iloc[rec_index].reset_index(drop=True)\n",
    "    rec_df['clean_Description'] = rec_df['clean_Description'].apply(lambda x: ' '.join([word for word in x.split() if word not in (stop)]))\n",
    "    return rec_df[['Book_title', 'Author', 'Rating', 'Price', 'clean_Description', feature]]"
   ]
  },
  {
   "cell_type": "code",
   "execution_count": 21,
   "id": "a5cab5d6",
   "metadata": {},
   "outputs": [],
   "source": [
    "book_title = 'JavaScript Frameworks/Libraries (React.js, Angular, Node.js, etc.)'\n",
    "feature = 'Book'"
   ]
  },
  {
   "cell_type": "code",
   "execution_count": 22,
   "id": "77a36455",
   "metadata": {},
   "outputs": [],
   "source": [
    "def get_recommendations(book_title, query_field, df, vectors, feature, stop):\n",
    "    query_vector = vectors[df[df[query_field] == book_title].index.values[0]]\n",
    "    cosine_similarities = cosine_similarity(query_vector.reshape(1, -1), vectors).flatten()\n",
    "    related_docs_indices = cosine_similarities.argsort()[::-1]\n",
    "    topk_indices = related_docs_indices[1:TOP_K + 1]\n",
    "    recommendations = df.iloc[topk_indices].reset_index(drop=True)\n",
    "    if len(recommendations) == 0:\n",
    "        recommendations = pd.DataFrame(columns=df.columns)\n",
    "    recommendations['clean_Description'] = recommendations['Description'].apply(clean_text)\n",
    "    return recommendations\n"
   ]
  },
  {
   "cell_type": "code",
   "execution_count": 23,
   "id": "f54edd0d",
   "metadata": {},
   "outputs": [],
   "source": [
    "def get_recommendations(book_title, query_field, df, vectors, feature, stop):\n",
    "    recommendations = pd.DataFrame(columns=df.columns)\n",
    "    query_df = df[df[query_field] == book_title]\n",
    "    if len(query_df) == 0:\n",
    "        print(\"Error: No matches found for book title in query field.\")\n",
    "        return recommendations\n",
    "    query_vector = vectors[query_df.index.values[0]]\n",
    "    cosine_similarities = cosine_similarity(query_vector.reshape(1, -1), vectors).flatten()\n",
    "    related_docs_indices = cosine_similarities.argsort()[::-1]\n",
    "    topk_indices = related_docs_indices[1:TOP_K + 1]\n",
    "    recommendations = df.iloc[topk_indices].reset_index(drop=True)\n",
    "    if len(recommendations) == 0:\n",
    "        print(\"Error: No recommendations found for the given book title.\")\n",
    "        return recommendations\n",
    "    recommendations['clean_Description'] = recommendations['Description'].apply(clean_text)\n",
    "    return recommendations\n"
   ]
  },
  {
   "cell_type": "code",
   "execution_count": 24,
   "id": "22a1e9b1",
   "metadata": {},
   "outputs": [],
   "source": [
    "def book_recommend(book, book_df, similarity):\n",
    "    index = book_df[book_df['Title'] == book].index[0]\n",
    "    distances = sorted(list(enumerate(similarity[index])), reverse=True, key=lambda x: x[1])\n",
    "    recommended_books = []\n",
    "    for i in distances[1:6]:\n",
    "        book_title = book_df.iloc[i[0]].Title\n",
    "        if book_title not in recommended_books and book_title != book:\n",
    "            recommended_books.append(book_title)\n",
    "    return recommended_books\n"
   ]
  },
  {
   "cell_type": "code",
   "execution_count": 27,
   "id": "fc378bd1",
   "metadata": {},
   "outputs": [],
   "source": [
    "new_df=pd.DataFrame(df,columns=['title', 'url','description' ])"
   ]
  },
  {
   "cell_type": "code",
   "execution_count": 28,
   "id": "301102cb",
   "metadata": {},
   "outputs": [
    {
     "data": {
      "text/html": [
       "<div>\n",
       "<style scoped>\n",
       "    .dataframe tbody tr th:only-of-type {\n",
       "        vertical-align: middle;\n",
       "    }\n",
       "\n",
       "    .dataframe tbody tr th {\n",
       "        vertical-align: top;\n",
       "    }\n",
       "\n",
       "    .dataframe thead th {\n",
       "        text-align: right;\n",
       "    }\n",
       "</style>\n",
       "<table border=\"1\" class=\"dataframe\">\n",
       "  <thead>\n",
       "    <tr style=\"text-align: right;\">\n",
       "      <th></th>\n",
       "      <th>title</th>\n",
       "      <th>url</th>\n",
       "      <th>description</th>\n",
       "    </tr>\n",
       "  </thead>\n",
       "  <tbody>\n",
       "    <tr>\n",
       "      <th>0</th>\n",
       "      <td>JavaScript Frameworks/Libraries (React.js, An...</td>\n",
       "      <td>https://freecomputerbooks.com/webJavaScriptFra...</td>\n",
       "      <td>A collection of JavaScript Frameworks/Librarie...</td>\n",
       "    </tr>\n",
       "    <tr>\n",
       "      <th>1</th>\n",
       "      <td>JavaScript for Impatient Programmers (Axel Ra...</td>\n",
       "      <td>https://freecomputerbooks.com/JavaScript-for-I...</td>\n",
       "      <td>This book makes JavaScript less challenging to...</td>\n",
       "    </tr>\n",
       "    <tr>\n",
       "      <th>2</th>\n",
       "      <td>Eloquent JavaScript, 3rd Edition: A Modern In...</td>\n",
       "      <td>https://freecomputerbooks.com/Eloquent-JavaScr...</td>\n",
       "      <td>Eloquent JavaScript dives deep into the JavaSc...</td>\n",
       "    </tr>\n",
       "    <tr>\n",
       "      <th>3</th>\n",
       "      <td>Deep JavaScript: Theory and Techniques (Axel ...</td>\n",
       "      <td>https://freecomputerbooks.com/Deep-JavaScript-...</td>\n",
       "      <td>In depth knowledge of JavaScript makes it easi...</td>\n",
       "    </tr>\n",
       "    <tr>\n",
       "      <th>4</th>\n",
       "      <td>You Don't Know JS Yet: Get Started - 2nd Ed. ...</td>\n",
       "      <td>https://freecomputerbooks.com/You-Dont-Know-JS...</td>\n",
       "      <td>By learning the basic building blocks of progr...</td>\n",
       "    </tr>\n",
       "  </tbody>\n",
       "</table>\n",
       "</div>"
      ],
      "text/plain": [
       "                                               title  \\\n",
       "0   JavaScript Frameworks/Libraries (React.js, An...   \n",
       "1   JavaScript for Impatient Programmers (Axel Ra...   \n",
       "2   Eloquent JavaScript, 3rd Edition: A Modern In...   \n",
       "3   Deep JavaScript: Theory and Techniques (Axel ...   \n",
       "4   You Don't Know JS Yet: Get Started - 2nd Ed. ...   \n",
       "\n",
       "                                                 url  \\\n",
       "0  https://freecomputerbooks.com/webJavaScriptFra...   \n",
       "1  https://freecomputerbooks.com/JavaScript-for-I...   \n",
       "2  https://freecomputerbooks.com/Eloquent-JavaScr...   \n",
       "3  https://freecomputerbooks.com/Deep-JavaScript-...   \n",
       "4  https://freecomputerbooks.com/You-Dont-Know-JS...   \n",
       "\n",
       "                                         description  \n",
       "0  A collection of JavaScript Frameworks/Librarie...  \n",
       "1  This book makes JavaScript less challenging to...  \n",
       "2  Eloquent JavaScript dives deep into the JavaSc...  \n",
       "3  In depth knowledge of JavaScript makes it easi...  \n",
       "4  By learning the basic building blocks of progr...  "
      ]
     },
     "execution_count": 28,
     "metadata": {},
     "output_type": "execute_result"
    }
   ],
   "source": [
    "new_df.head()"
   ]
  },
  {
   "cell_type": "code",
   "execution_count": 29,
   "id": "4e51705c",
   "metadata": {},
   "outputs": [
    {
     "data": {
      "text/plain": [
       "title          0\n",
       "url            0\n",
       "description    1\n",
       "dtype: int64"
      ]
     },
     "execution_count": 29,
     "metadata": {},
     "output_type": "execute_result"
    }
   ],
   "source": [
    "new_df.isna().sum()"
   ]
  },
  {
   "cell_type": "code",
   "execution_count": 31,
   "id": "8e0dba1d",
   "metadata": {},
   "outputs": [],
   "source": [
    "new_df[\"url\"]=new_df[\"url\"].fillna(0)"
   ]
  },
  {
   "cell_type": "code",
   "execution_count": 35,
   "id": "48f0ef12",
   "metadata": {},
   "outputs": [
    {
     "name": "stderr",
     "output_type": "stream",
     "text": [
      "C:\\Users\\ACER\\AppData\\Local\\Temp\\ipykernel_19680\\2950623829.py:8: SettingWithCopyWarning: \n",
      "A value is trying to be set on a copy of a slice from a DataFrame\n",
      "\n",
      "See the caveats in the documentation: https://pandas.pydata.org/pandas-docs/stable/user_guide/indexing.html#returning-a-view-versus-a-copy\n",
      "  new_df[\"url\"][i] = x\n"
     ]
    }
   ],
   "source": [
    "url = list(enumerate(new_df[\"url\"]))\n",
    "new_df[\"url\"] = 0\n",
    "for i in range(len(url)):\n",
    "    if pd.isnull(new_df[\"title\"][url[i][0]]):\n",
    "        continue  # skip NaN values\n",
    "    if new_df[\"url\"][i] == 0:\n",
    "        x = (\"{}/{}\".format(\"https://www.\", str(\"\".join(list(new_df[\"title\"][url[i][0]].split())))))\n",
    "        new_df[\"url\"][i] = x\n",
    "    else:\n",
    "        new_df[\"url\"][i] = new_df[\"url\"][i]\n"
   ]
  },
  {
   "cell_type": "code",
   "execution_count": 36,
   "id": "98f1cee8",
   "metadata": {},
   "outputs": [
    {
     "data": {
      "text/plain": [
       "0       https://www./JavaScriptFrameworks/Libraries(Re...\n",
       "1       https://www./JavaScriptforImpatientProgrammers...\n",
       "2       https://www./EloquentJavaScript,3rdEdition:AMo...\n",
       "3       https://www./DeepJavaScript:TheoryandTechnique...\n",
       "4       https://www./YouDon'tKnowJSYet:GetStarted-2ndE...\n",
       "                              ...                        \n",
       "1144             https://www./COBOLProgrammingFundamental\n",
       "1145                   https://www./LearnCOBOLProgramming\n",
       "1146                https://www./AGuidetoCOBOLProgramming\n",
       "1147               https://www./COBOLProgrammingStandards\n",
       "1148               https://www./GnuCOBOLProgrammer'sGuide\n",
       "Name: url, Length: 1149, dtype: object"
      ]
     },
     "execution_count": 36,
     "metadata": {},
     "output_type": "execute_result"
    }
   ],
   "source": [
    "new_df[\"url\"]"
   ]
  },
  {
   "cell_type": "code",
   "execution_count": 37,
   "id": "a57114be",
   "metadata": {},
   "outputs": [
    {
     "data": {
      "text/html": [
       "<div>\n",
       "<style scoped>\n",
       "    .dataframe tbody tr th:only-of-type {\n",
       "        vertical-align: middle;\n",
       "    }\n",
       "\n",
       "    .dataframe tbody tr th {\n",
       "        vertical-align: top;\n",
       "    }\n",
       "\n",
       "    .dataframe thead th {\n",
       "        text-align: right;\n",
       "    }\n",
       "</style>\n",
       "<table border=\"1\" class=\"dataframe\">\n",
       "  <thead>\n",
       "    <tr style=\"text-align: right;\">\n",
       "      <th></th>\n",
       "      <th>title</th>\n",
       "      <th>url</th>\n",
       "      <th>description</th>\n",
       "    </tr>\n",
       "  </thead>\n",
       "  <tbody>\n",
       "    <tr>\n",
       "      <th>218</th>\n",
       "      <td>Programming and Mathematical Thinking: Discre...</td>\n",
       "      <td>https://www./ProgrammingandMathematicalThinkin...</td>\n",
       "      <td>Starting at an elementary level, this book tea...</td>\n",
       "    </tr>\n",
       "    <tr>\n",
       "      <th>276</th>\n",
       "      <td>RESTful Java with JAX-RS 2.0: Designing and D...</td>\n",
       "      <td>https://www./RESTfulJavawithJAX-RS2.0:Designin...</td>\n",
       "      <td>With the book's technical guide, you'll learn ...</td>\n",
       "    </tr>\n",
       "    <tr>\n",
       "      <th>886</th>\n",
       "      <td>O'Reilly® Real World Haskell</td>\n",
       "      <td>https://www./O'Reilly®RealWorldHaskell</td>\n",
       "      <td>This easy-to-use, fast-moving tutorial introdu...</td>\n",
       "    </tr>\n",
       "    <tr>\n",
       "      <th>653</th>\n",
       "      <td>C++ Succinctly: C++ for C# Developers (M. McL...</td>\n",
       "      <td>https://www./C++Succinctly:C++forC#Developers(...</td>\n",
       "      <td>This book was written to help professional C# ...</td>\n",
       "    </tr>\n",
       "    <tr>\n",
       "      <th>1105</th>\n",
       "      <td>Effective Dart</td>\n",
       "      <td>https://www./EffectiveDart</td>\n",
       "      <td>It's easy to start developing programs with Da...</td>\n",
       "    </tr>\n",
       "  </tbody>\n",
       "</table>\n",
       "</div>"
      ],
      "text/plain": [
       "                                                  title  \\\n",
       "218    Programming and Mathematical Thinking: Discre...   \n",
       "276    RESTful Java with JAX-RS 2.0: Designing and D...   \n",
       "886                        O'Reilly® Real World Haskell   \n",
       "653    C++ Succinctly: C++ for C# Developers (M. McL...   \n",
       "1105                                     Effective Dart   \n",
       "\n",
       "                                                    url  \\\n",
       "218   https://www./ProgrammingandMathematicalThinkin...   \n",
       "276   https://www./RESTfulJavawithJAX-RS2.0:Designin...   \n",
       "886              https://www./O'Reilly®RealWorldHaskell   \n",
       "653   https://www./C++Succinctly:C++forC#Developers(...   \n",
       "1105                         https://www./EffectiveDart   \n",
       "\n",
       "                                            description  \n",
       "218   Starting at an elementary level, this book tea...  \n",
       "276   With the book's technical guide, you'll learn ...  \n",
       "886   This easy-to-use, fast-moving tutorial introdu...  \n",
       "653   This book was written to help professional C# ...  \n",
       "1105  It's easy to start developing programs with Da...  "
      ]
     },
     "execution_count": 37,
     "metadata": {},
     "output_type": "execute_result"
    }
   ],
   "source": [
    "new_df.sample(5)"
   ]
  },
  {
   "cell_type": "code",
   "execution_count": 38,
   "id": "968ba6b1",
   "metadata": {},
   "outputs": [],
   "source": [
    "def spliting(text):\n",
    "  text=str(text).split()\n",
    "  return text"
   ]
  },
  {
   "cell_type": "code",
   "execution_count": 40,
   "id": "1f69affb",
   "metadata": {},
   "outputs": [],
   "source": [
    "new_df['description']=new_df['description'].apply(spliting)"
   ]
  },
  {
   "cell_type": "code",
   "execution_count": 41,
   "id": "ac85aafc",
   "metadata": {},
   "outputs": [
    {
     "data": {
      "text/html": [
       "<div>\n",
       "<style scoped>\n",
       "    .dataframe tbody tr th:only-of-type {\n",
       "        vertical-align: middle;\n",
       "    }\n",
       "\n",
       "    .dataframe tbody tr th {\n",
       "        vertical-align: top;\n",
       "    }\n",
       "\n",
       "    .dataframe thead th {\n",
       "        text-align: right;\n",
       "    }\n",
       "</style>\n",
       "<table border=\"1\" class=\"dataframe\">\n",
       "  <thead>\n",
       "    <tr style=\"text-align: right;\">\n",
       "      <th></th>\n",
       "      <th>title</th>\n",
       "      <th>url</th>\n",
       "      <th>description</th>\n",
       "    </tr>\n",
       "  </thead>\n",
       "  <tbody>\n",
       "    <tr>\n",
       "      <th>0</th>\n",
       "      <td>JavaScript Frameworks/Libraries (React.js, An...</td>\n",
       "      <td>https://www./JavaScriptFrameworks/Libraries(Re...</td>\n",
       "      <td>[A, collection, of, JavaScript, Frameworks/Lib...</td>\n",
       "    </tr>\n",
       "    <tr>\n",
       "      <th>1</th>\n",
       "      <td>JavaScript for Impatient Programmers (Axel Ra...</td>\n",
       "      <td>https://www./JavaScriptforImpatientProgrammers...</td>\n",
       "      <td>[This, book, makes, JavaScript, less, challeng...</td>\n",
       "    </tr>\n",
       "    <tr>\n",
       "      <th>2</th>\n",
       "      <td>Eloquent JavaScript, 3rd Edition: A Modern In...</td>\n",
       "      <td>https://www./EloquentJavaScript,3rdEdition:AMo...</td>\n",
       "      <td>[Eloquent, JavaScript, dives, deep, into, the,...</td>\n",
       "    </tr>\n",
       "    <tr>\n",
       "      <th>3</th>\n",
       "      <td>Deep JavaScript: Theory and Techniques (Axel ...</td>\n",
       "      <td>https://www./DeepJavaScript:TheoryandTechnique...</td>\n",
       "      <td>[In, depth, knowledge, of, JavaScript, makes, ...</td>\n",
       "    </tr>\n",
       "    <tr>\n",
       "      <th>4</th>\n",
       "      <td>You Don't Know JS Yet: Get Started - 2nd Ed. ...</td>\n",
       "      <td>https://www./YouDon'tKnowJSYet:GetStarted-2ndE...</td>\n",
       "      <td>[By, learning, the, basic, building, blocks, o...</td>\n",
       "    </tr>\n",
       "  </tbody>\n",
       "</table>\n",
       "</div>"
      ],
      "text/plain": [
       "                                               title  \\\n",
       "0   JavaScript Frameworks/Libraries (React.js, An...   \n",
       "1   JavaScript for Impatient Programmers (Axel Ra...   \n",
       "2   Eloquent JavaScript, 3rd Edition: A Modern In...   \n",
       "3   Deep JavaScript: Theory and Techniques (Axel ...   \n",
       "4   You Don't Know JS Yet: Get Started - 2nd Ed. ...   \n",
       "\n",
       "                                                 url  \\\n",
       "0  https://www./JavaScriptFrameworks/Libraries(Re...   \n",
       "1  https://www./JavaScriptforImpatientProgrammers...   \n",
       "2  https://www./EloquentJavaScript,3rdEdition:AMo...   \n",
       "3  https://www./DeepJavaScript:TheoryandTechnique...   \n",
       "4  https://www./YouDon'tKnowJSYet:GetStarted-2ndE...   \n",
       "\n",
       "                                         description  \n",
       "0  [A, collection, of, JavaScript, Frameworks/Lib...  \n",
       "1  [This, book, makes, JavaScript, less, challeng...  \n",
       "2  [Eloquent, JavaScript, dives, deep, into, the,...  \n",
       "3  [In, depth, knowledge, of, JavaScript, makes, ...  \n",
       "4  [By, learning, the, basic, building, blocks, o...  "
      ]
     },
     "execution_count": 41,
     "metadata": {},
     "output_type": "execute_result"
    }
   ],
   "source": [
    "new_df.head()"
   ]
  },
  {
   "cell_type": "code",
   "execution_count": 42,
   "id": "dad43644",
   "metadata": {},
   "outputs": [],
   "source": [
    "import nltk\n",
    "from nltk.stem.porter import PorterStemmer\n",
    "ps=PorterStemmer()\n",
    "def steming(text):\n",
    "  l=[]\n",
    "  for i in text:\n",
    "\n",
    "    l.append(ps.stem(i))\n",
    "  return l"
   ]
  },
  {
   "cell_type": "code",
   "execution_count": 43,
   "id": "701fa973",
   "metadata": {},
   "outputs": [
    {
     "name": "stdout",
     "output_type": "stream",
     "text": [
      "Requirement already satisfied: nltk in c:\\users\\acer\\anaconda3\\lib\\site-packages (3.8.1)\n",
      "Requirement already satisfied: tqdm in c:\\users\\acer\\anaconda3\\lib\\site-packages (from nltk) (4.64.1)\n",
      "Requirement already satisfied: click in c:\\users\\acer\\anaconda3\\lib\\site-packages (from nltk) (8.0.4)\n",
      "Requirement already satisfied: regex>=2021.8.3 in c:\\users\\acer\\anaconda3\\lib\\site-packages (from nltk) (2022.7.9)\n",
      "Requirement already satisfied: joblib in c:\\users\\acer\\anaconda3\\lib\\site-packages (from nltk) (1.2.0)\n",
      "Requirement already satisfied: colorama in c:\\users\\acer\\anaconda3\\lib\\site-packages (from click->nltk) (0.4.5)\n",
      "Note: you may need to restart the kernel to use updated packages.\n"
     ]
    }
   ],
   "source": [
    "pip install nltk"
   ]
  },
  {
   "cell_type": "code",
   "execution_count": 45,
   "id": "3079b22d",
   "metadata": {},
   "outputs": [
    {
     "data": {
      "text/html": [
       "<div>\n",
       "<style scoped>\n",
       "    .dataframe tbody tr th:only-of-type {\n",
       "        vertical-align: middle;\n",
       "    }\n",
       "\n",
       "    .dataframe tbody tr th {\n",
       "        vertical-align: top;\n",
       "    }\n",
       "\n",
       "    .dataframe thead th {\n",
       "        text-align: right;\n",
       "    }\n",
       "</style>\n",
       "<table border=\"1\" class=\"dataframe\">\n",
       "  <thead>\n",
       "    <tr style=\"text-align: right;\">\n",
       "      <th></th>\n",
       "      <th>title</th>\n",
       "      <th>url</th>\n",
       "      <th>description</th>\n",
       "    </tr>\n",
       "  </thead>\n",
       "  <tbody>\n",
       "    <tr>\n",
       "      <th>924</th>\n",
       "      <td>Machine Translation: An Introductory Guide</td>\n",
       "      <td>https://www./MachineTranslation:AnIntroductory...</td>\n",
       "      <td>[This, introductory, book, looks, at, all, asp...</td>\n",
       "    </tr>\n",
       "    <tr>\n",
       "      <th>936</th>\n",
       "      <td>The Node.js Handbook</td>\n",
       "      <td>https://www./TheNode.jsHandbook</td>\n",
       "      <td>[This, book, is, a, practical,, project-based,...</td>\n",
       "    </tr>\n",
       "    <tr>\n",
       "      <th>118</th>\n",
       "      <td>Modeling and Simulation in Python (Allen B. D...</td>\n",
       "      <td>https://www./ModelingandSimulationinPython(All...</td>\n",
       "      <td>[This, book, is, an, introduction, to, physica...</td>\n",
       "    </tr>\n",
       "    <tr>\n",
       "      <th>1069</th>\n",
       "      <td>Programming the Z80, 3rd Edition</td>\n",
       "      <td>https://www./ProgrammingtheZ80,3rdEdition</td>\n",
       "      <td>[This, book, has, been, designed, as, a, compl...</td>\n",
       "    </tr>\n",
       "    <tr>\n",
       "      <th>55</th>\n",
       "      <td>Sams Teach Yourself JavaScript in 24 Hours, 4...</td>\n",
       "      <td>https://www./SamsTeachYourselfJavaScriptin24Ho...</td>\n",
       "      <td>[The, book, is, written, in, a, clear, and, pe...</td>\n",
       "    </tr>\n",
       "  </tbody>\n",
       "</table>\n",
       "</div>"
      ],
      "text/plain": [
       "                                                  title  \\\n",
       "924          Machine Translation: An Introductory Guide   \n",
       "936                               The Node.js Handbook    \n",
       "118    Modeling and Simulation in Python (Allen B. D...   \n",
       "1069                   Programming the Z80, 3rd Edition   \n",
       "55     Sams Teach Yourself JavaScript in 24 Hours, 4...   \n",
       "\n",
       "                                                    url  \\\n",
       "924   https://www./MachineTranslation:AnIntroductory...   \n",
       "936                     https://www./TheNode.jsHandbook   \n",
       "118   https://www./ModelingandSimulationinPython(All...   \n",
       "1069          https://www./ProgrammingtheZ80,3rdEdition   \n",
       "55    https://www./SamsTeachYourselfJavaScriptin24Ho...   \n",
       "\n",
       "                                            description  \n",
       "924   [This, introductory, book, looks, at, all, asp...  \n",
       "936   [This, book, is, a, practical,, project-based,...  \n",
       "118   [This, book, is, an, introduction, to, physica...  \n",
       "1069  [This, book, has, been, designed, as, a, compl...  \n",
       "55    [The, book, is, written, in, a, clear, and, pe...  "
      ]
     },
     "execution_count": 45,
     "metadata": {},
     "output_type": "execute_result"
    }
   ],
   "source": [
    "new_df.sample(5)"
   ]
  },
  {
   "cell_type": "code",
   "execution_count": 46,
   "id": "e1361664",
   "metadata": {},
   "outputs": [],
   "source": [
    "def _join(text):\n",
    "    return ' '.join(text)"
   ]
  },
  {
   "cell_type": "code",
   "execution_count": 48,
   "id": "ad6bd527",
   "metadata": {},
   "outputs": [],
   "source": [
    "new_df[\"description\"] = new_df[\"description\"].apply(_join)"
   ]
  },
  {
   "cell_type": "code",
   "execution_count": 49,
   "id": "28dd6020",
   "metadata": {},
   "outputs": [],
   "source": [
    "new_df['description'] = new_df['description'].apply(lambda x: \" \".join(x))"
   ]
  },
  {
   "cell_type": "code",
   "execution_count": 50,
   "id": "f89569f0",
   "metadata": {},
   "outputs": [],
   "source": [
    "from sklearn.feature_extraction.text import CountVectorizer\n",
    "cv = CountVectorizer(stop_words='english')"
   ]
  },
  {
   "cell_type": "code",
   "execution_count": 51,
   "id": "4a09b527",
   "metadata": {},
   "outputs": [
    {
     "name": "stdout",
     "output_type": "stream",
     "text": [
      "frozenset({'seem', 'full', 'nobody', 'sixty', 'wherein', 'if', 'sometimes', 'its', 'often', 'onto', 'back', 'beforehand', 'within', 'whereas', 'below', 'may', 'would', 'he', 'last', 'latterly', 'might', 'latter', 'anyway', 'further', 'toward', 'i', 'nor', 'without', 'her', 'herein', 'whole', 'more', 'mine', 'whatever', 'whose', 'con', 'among', 'behind', 'once', 'fifty', 'after', 'many', 'never', 'around', 'even', 'least', 'who', 'show', 'four', 'now', 'nothing', 'co', 'along', 'twenty', 'whoever', 'when', 'part', 'an', 'everywhere', 'found', 'at', 'to', 'off', 'nevertheless', 'become', 'whereupon', 'meanwhile', 'into', 'no', 'detail', 'from', 'becomes', 'ltd', 'none', 'fire', 'whether', 'are', 'what', 'former', 'interest', 'although', 'already', 'thence', 'because', 'in', 'thereupon', 'thick', 'do', 'indeed', 'others', 'per', 'only', 'together', 'those', 'find', 'thereafter', 'or', 'here', 'sometime', 'where', 'eight', 'seeming', 'by', 'give', 'am', 'being', 'ours', 'a', 'cry', 'other', 'him', 'this', 'whom', 'afterwards', 'ten', 'ever', 'namely', 'mill', 'next', 'hereafter', 'something', 'hence', 'and', 'whither', 'anything', 'up', 'most', 'they', 'throughout', 'itself', 'himself', 'us', 'anyhow', 'cannot', 'keep', 'for', 'both', 'fill', 'as', 'go', 'of', 'someone', 'had', 'third', 'same', 'our', 'anywhere', 'alone', 'see', 'de', 'thru', 'hereupon', 'thereby', 'than', 'nine', 'front', 'was', 'rather', 'everything', 'take', 'the', 'seems', 'yet', 'becoming', 'been', 'amongst', 'each', 'beyond', 'down', 'we', 'so', 'due', 'forty', 'whenever', 'but', 'themselves', 'almost', 'otherwise', 'whence', 'however', 'three', 'has', 'should', 'call', 'across', 'must', 'hasnt', 'please', 'inc', 'therefore', 'me', 'myself', 'fifteen', 'enough', 'serious', 'nowhere', 'wherever', 'neither', 'yours', 'couldnt', 'two', 'whereby', 'another', 'their', 'thus', 'yourself', 'put', 'eg', 'my', 'some', 'all', 'how', 'hereby', 'amoungst', 'own', 'side', 'bill', 'system', 'get', 'always', 'much', 'above', 'be', 'his', 'name', 'then', 'besides', 'there', 'them', 'too', 'un', 'made', 'move', 'amount', 'will', 'she', 'twelve', 'these', 'therein', 'noone', 'on', 'were', 'one', 'out', 'elsewhere', 'became', 'hers', 'hundred', 'such', 'again', 'which', 'have', 'towards', 'why', 'perhaps', 'before', 'over', 'is', 'bottom', 'anyone', 'it', 'etc', 'since', 'eleven', 'yourselves', 'several', 'cant', 'with', 'done', 'formerly', 'six', 'beside', 'herself', 'first', 'seemed', 'somehow', 're', 'few', 'during', 'you', 'well', 'between', 'except', 'either', 'somewhere', 'empty', 'could', 'your', 'though', 'can', 'whereafter', 'still', 'against', 'five', 'while', 'thin', 'not', 'until', 'ie', 'that', 'through', 'upon', 'under', 'every', 'everyone', 'ourselves', 'sincere', 'describe', 'top', 'less', 'also', 'via', 'any', 'mostly', 'moreover', 'about', 'very', 'else'})\n"
     ]
    }
   ],
   "source": [
    "print(cv.get_stop_words())"
   ]
  },
  {
   "cell_type": "code",
   "execution_count": 53,
   "id": "22e82061",
   "metadata": {},
   "outputs": [],
   "source": [
    "from sklearn.feature_extraction.text import CountVectorizer\n",
    "text_data = df['description'].values.astype('U')\n",
    "cv = CountVectorizer()\n",
    "data = cv.fit_transform(text_data).toarray()\n"
   ]
  },
  {
   "cell_type": "code",
   "execution_count": 54,
   "id": "14acd37f",
   "metadata": {},
   "outputs": [],
   "source": [
    "text_data = df['description'].values.astype('U')"
   ]
  },
  {
   "cell_type": "code",
   "execution_count": 55,
   "id": "615686d3",
   "metadata": {},
   "outputs": [],
   "source": [
    "from sklearn.metrics.pairwise import cosine_similarity\n",
    "similarity = cosine_similarity(data)"
   ]
  },
  {
   "cell_type": "code",
   "execution_count": 72,
   "id": "9bf182fd",
   "metadata": {},
   "outputs": [],
   "source": [
    "def book_recommend(book):\n",
    "    index = new_df[new_df['title'] == book].index[0]\n",
    "    distances = sorted(list(enumerate(similarity[index])),reverse=True,key = lambda x: x[1])\n",
    "    for i in distances[1:8]:\n",
    "\n",
    "      \n",
    "      print(\"{} {}\".format(new_df.iloc[i[0]].title,new_df.iloc[i[0]].url))"
   ]
  },
  {
   "cell_type": "code",
   "execution_count": 73,
   "id": "b79b5e3d",
   "metadata": {},
   "outputs": [
    {
     "name": "stdout",
     "output_type": "stream",
     "text": [
      "The Node Craftsman Book https://www./TheNodeCraftsmanBook\n",
      "Express.js Guide: The Comprehensive Book on Express.js https://www./Express.jsGuide:TheComprehensiveBookonExpress.js\n",
      " Express.js Guide: The Comprehensive Book on Express.js https://www./Express.jsGuide:TheComprehensiveBookonExpress.js\n",
      " AngularJS Succinctly (Frederik Dietz) https://www./AngularJSSuccinctly(FrederikDietz)\n",
      " Developing Single Page Web Apps with Backbone.js (Prateek Dayal) https://www./DevelopingSinglePageWebAppswithBackbone.js(PrateekDayal)\n",
      "The Node Beginner Book: A Comprehensive Node.js Tutorial https://www./TheNodeBeginnerBook:AComprehensiveNode.jsTutorial\n",
      " O'Reilly® Node: Up and Running - Scalable Server-Side Code https://www./O'Reilly®Node:UpandRunning-ScalableServer-SideCode\n"
     ]
    }
   ],
   "source": [
    "book_recommend(\" JavaScript Frameworks/Libraries (React.js, Angular, Node.js, etc.)\")"
   ]
  },
  {
   "cell_type": "code",
   "execution_count": 74,
   "id": "571eac6b",
   "metadata": {},
   "outputs": [],
   "source": [
    "import pickle"
   ]
  },
  {
   "cell_type": "code",
   "execution_count": 75,
   "id": "eb94619f",
   "metadata": {},
   "outputs": [],
   "source": [
    "pickle.dump(new_df,open(\"book_recm.pkl\",\"wb\"))\n",
    "pickle.dump(similarity,open(\"similarity.pkl\",\"wb\"))"
   ]
  },
  {
   "cell_type": "code",
   "execution_count": 76,
   "id": "03dfe210",
   "metadata": {},
   "outputs": [
    {
     "data": {
      "text/plain": [
       "array([' JavaScript Frameworks/Libraries (React.js, Angular, Node.js, etc.)',\n",
       "       ' JavaScript for Impatient Programmers (Axel Rauschmayer)',\n",
       "       ' Eloquent JavaScript, 3rd Edition: A Modern Introduction', ...,\n",
       "       'A Guide to COBOL Programming', 'COBOL Programming Standards',\n",
       "       \"Gnu COBOL Programmer's Guide\"], dtype=object)"
      ]
     },
     "execution_count": 76,
     "metadata": {},
     "output_type": "execute_result"
    }
   ],
   "source": [
    "np.array(new_df[\"title\"])"
   ]
  },
  {
   "cell_type": "code",
   "execution_count": null,
   "id": "6174addd",
   "metadata": {},
   "outputs": [],
   "source": []
  }
 ],
 "metadata": {
  "kernelspec": {
   "display_name": "Python 3 (ipykernel)",
   "language": "python",
   "name": "python3"
  },
  "language_info": {
   "codemirror_mode": {
    "name": "ipython",
    "version": 3
   },
   "file_extension": ".py",
   "mimetype": "text/x-python",
   "name": "python",
   "nbconvert_exporter": "python",
   "pygments_lexer": "ipython3",
   "version": "3.9.13"
  }
 },
 "nbformat": 4,
 "nbformat_minor": 5
}
